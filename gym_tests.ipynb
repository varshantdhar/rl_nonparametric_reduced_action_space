{
 "cells": [
  {
   "cell_type": "code",
   "execution_count": 5,
   "metadata": {},
   "outputs": [],
   "source": [
    "import random\n",
    "import torch\n",
    "import torch.nn as nn\n",
    "import numpy as np\n",
    "import matplotlib.pyplot as plt\n",
    "import gym\n",
    "import time\n",
    "device = \"cpu\""
   ]
  },
  {
   "cell_type": "code",
   "execution_count": 49,
   "metadata": {},
   "outputs": [],
   "source": [
    "class SAValueNN(nn.Module):\n",
    "    def __init__(self, num_hidden, num_actions):\n",
    "        super().__init__()\n",
    "        \"\"\"\n",
    "        simple shallow ReLU network:\n",
    "        \n",
    "        \"\"\"\n",
    "        self.model = nn.Sequential(nn.Linear(1, num_hidden),\n",
    "                                    nn.ReLU(),\n",
    "                                    nn.Linear(num_hidden, num_actions))\n",
    "\n",
    "    def forward(self, state):\n",
    "        return self.model(state)\n",
    "    \n",
    "class Q_NN_multidim(nn.Module):\n",
    "    def __init__(self, state_dim, action_dim, num_actions, num_hidden=10):\n",
    "        super().__init__()\n",
    "        self.state_embed = nn.Sequential(nn.Linear(state_dim, num_hidden),\n",
    "                                  nn.ReLU(),)\n",
    "        self.actions_out = [nn.Linear(num_hidden, num_actions) for _ in range(action_dim)]\n",
    "        \n",
    "    def forward(self, state):\n",
    "        embed = self.state_embed(state)\n",
    "        return torch.stack([v(embed) for v in self.actions_out], dim=1)\n",
    "\n",
    "\n",
    "class ReplayBuffer:\n",
    "    def __init__(self, buffer_size, state_size, action_size):\n",
    "        self.buffer_size = buffer_size\n",
    "        self.buffer_full = False\n",
    "        self.place_position = 0\n",
    "        self.num_in_buffer = 0\n",
    "        self.state_size = state_size\n",
    "        self.states = torch.empty(buffer_size, state_size)\n",
    "        self.next_states = torch.empty(buffer_size, state_size)\n",
    "        self.action_inds = torch.empty((buffer_size, action_size), dtype=torch.long)\n",
    "        self.rewards = torch.empty(buffer_size, 1)\n",
    "        self.done_flags = torch.empty((buffer_size, 1), dtype=torch.bool)\n",
    "        \n",
    "    def sample_batch(self, batch_size):\n",
    "        if self.buffer_full or self.place_position > batch_size:\n",
    "            ind = np.random.choice(self.num_in_buffer, batch_size, replace=False)\n",
    "        else:\n",
    "            ind = np.random.choice(self.place_position, batch_size, replace=True)\n",
    "            \n",
    "        return self.states[ind], self.next_states[ind], self.action_inds[ind], self.rewards[ind], self.done_flags[ind]\n",
    "        \n",
    "    def add_sample(self, state, action_ind, reward, next_state, done_flag):\n",
    "        self.states[self.place_position] = state\n",
    "        self.next_states[self.place_position] = next_state\n",
    "        self.action_inds[self.place_position] = action_ind\n",
    "        self.rewards[self.place_position] = reward\n",
    "        self.done_flags[self.place_position] = done_flag\n",
    "        \n",
    "        self.place_position += 1\n",
    "        if not self.buffer_full:\n",
    "            self.num_in_buffer += 1\n",
    "            \n",
    "        if self.place_position == self.buffer_size:\n",
    "            self.place_position = 0\n",
    "            self.buffer_full = True\n",
    "        return\n",
    "        \n",
    "class Q_Learning:\n",
    "    def __init__(self, epsilon, gamma, value_model, target_model, action_space, state_size, state_scaling=100,\n",
    "                history_len=3, buffer_size=1000, batch_size=128):\n",
    "        self.epsilon = epsilon\n",
    "        self.gamma = gamma\n",
    "        self.value_model = value_model\n",
    "        self.target_model = target_model\n",
    "        self.action_space = action_space\n",
    "        self.num_actions = sum(action_space.shape)\n",
    "        self.optimizer = torch.optim.Adam(self.value_model.parameters(), lr=0.01)\n",
    "        self.history_len = history_len\n",
    "        self.batch_size = batch_size\n",
    "        \n",
    "        self.target_model_update_freq = 100\n",
    "        \n",
    "        self.replay_buffer = ReplayBuffer(buffer_size, state_size*history_len, action_space.shape[0])\n",
    "        \n",
    "    def update_target_model(self):\n",
    "        self.target_model.load_state_dict(self.value_model.state_dict())\n",
    "        \n",
    "    def random_sample(self):\n",
    "        # for now, assume action space is a vector of actions\n",
    "        return torch.LongTensor([random.randrange(self.action_space.shape[1]) for _ in range(self.action_space.shape[0])])\n",
    "        \n",
    "    def get_action(self, state):\n",
    "        \"\"\"\n",
    "        End goal:\n",
    "        sample actions given a state and action space\n",
    "            action space might be a list of actions\n",
    "        how to define action space?\n",
    "            maybe easiest is a list of values (since this is a continuous action space)\n",
    "        \"\"\"\n",
    "        q_values = self.value_model(state.unsqueeze(0))\n",
    "        if np.random.random() < self.epsilon:\n",
    "            rand_ind = self.random_sample()\n",
    "            return q_values[:, range(self.action_space.shape[0]), rand_ind], rand_ind\n",
    "        \n",
    "        # otherwise, compute value for each of these actions\n",
    "        best_values, best_action_inds = torch.max(q_values, dim=2)\n",
    "        return best_values, best_action_inds.squeeze(0)\n",
    "    \n",
    "    def get_state(self, obs):\n",
    "        # state is defined as concat of last 4 observations\n",
    "        _ = self.obs.pop(0)\n",
    "        self.obs.append(obs)\n",
    "        return torch.cat(self.obs)\n",
    "        \n",
    "    def init_state(self, obs):\n",
    "        self.obs = [obs for _ in range(self.history_len)]\n",
    "        return torch.cat(self.obs)\n",
    "    \n",
    "    def calc_loss(self, q_values, action_taken_ind, target_values, rewards, done_flags):\n",
    "        \"\"\"\n",
    "        q_value: predicted value for taken action\n",
    "        target_values: value for each action for update target\n",
    "        reward: for taken action\n",
    "        \"\"\"\n",
    "        max_target_vals = torch.max(target_values, dim=2).values\n",
    "        \n",
    "        q_target = rewards + ~done_flags*self.gamma*max_target_vals\n",
    "\n",
    "        q_taken = q_values.view(128*4, -1)[range(128*4), action_taken_ind.view(128*4)]\n",
    "        q_target = q_target.view(128*4)\n",
    "        return torch.nn.functional.mse_loss(q_taken, q_target)\n",
    "    \n",
    "    def update(self, loss):\n",
    "        loss.backward()\n",
    "        self.optimizer.step()\n",
    "    \n",
    "    def choose_action(self, action_ind):\n",
    "        return self.action_space[range(self.action_space.shape[0]), action_ind]\n",
    "    \n",
    "    def train_step(self, frame_count):\n",
    "        states, next_states, action_ind, rewards, done_flags = self.replay_buffer.sample_batch(self.batch_size)\n",
    "\n",
    "        values = self.value_model(states)\n",
    "        target_values = self.target_model(next_states)\n",
    "\n",
    "        loss = agent.calc_loss(values, action_ind, target_values, rewards, done_flags)\n",
    "        loss.backward()\n",
    "        torch.nn.utils.clip_grad_norm_(self.value_model.parameters(), 10)\n",
    "        \n",
    "        if frame_count % self.target_model_update_freq == 0:\n",
    "            agent.update_target_model()"
   ]
  },
  {
   "cell_type": "code",
   "execution_count": 50,
   "metadata": {},
   "outputs": [],
   "source": [
    "def train(n_epoch, env, agent):\n",
    "    frame_count = 0\n",
    "    running_rewards = []\n",
    "    for i in range(n_epoch):\n",
    "        start_time = time.process_time()\n",
    "        done = False\n",
    "        obs = env.reset()\n",
    "        state = agent.init_state(torch.Tensor(obs))\n",
    "        episode_reward = 0\n",
    "        agent.epsilon *= 0.99\n",
    "        while not done:\n",
    "            values, action_ind = agent.get_action(state)\n",
    "            obs, reward, done, _ = env.step(agent.choose_action(action_ind))\n",
    "            next_state = agent.get_state(torch.Tensor(obs))\n",
    "            episode_reward += reward\n",
    "            \n",
    "            agent.replay_buffer.add_sample(state, action_ind, reward, next_state, done)\n",
    "            agent.train_step(frame_count)\n",
    "            state = next_state\n",
    "            frame_count += 1\n",
    "\n",
    "        running_rewards.append(episode_reward)\n",
    "        print(i, time.process_time() - start_time, episode_reward)"
   ]
  },
  {
   "cell_type": "code",
   "execution_count": 55,
   "metadata": {},
   "outputs": [],
   "source": [
    "num_disc_steps = 7\n",
    "val_model = Q_NN_multidim(24*3, 4, num_disc_steps, num_hidden=20)\n",
    "targ_model = Q_NN_multidim(24*3, 4, num_disc_steps, num_hidden=20)"
   ]
  },
  {
   "cell_type": "code",
   "execution_count": 59,
   "metadata": {},
   "outputs": [],
   "source": [
    "uniform_action_space = torch.linspace(-1, 1, num_disc_steps).unsqueeze(0).repeat(4, 1)\n",
    "agent = Q_Learning(0.5, 0.99, val_model, targ_model, uniform_action_space, state_size=24, history_len=3, buffer_size=5000)"
   ]
  },
  {
   "cell_type": "code",
   "execution_count": 60,
   "metadata": {},
   "outputs": [],
   "source": [
    "env = gym.make(\"BipedalWalker-v3\")"
   ]
  },
  {
   "cell_type": "code",
   "execution_count": null,
   "metadata": {},
   "outputs": [
    {
     "name": "stdout",
     "output_type": "stream",
     "text": [
      "0 1.765625 tensor(-117.9175, dtype=torch.float64)\n",
      "1 28.1875 tensor(-104.6414, dtype=torch.float64)\n",
      "2 29.3125 tensor(-102.0460, dtype=torch.float64)\n",
      "3 28.875 tensor(-102.1232, dtype=torch.float64)\n",
      "4 30.359375 tensor(-105.1852, dtype=torch.float64)\n",
      "5 29.421875 tensor(-95.2735, dtype=torch.float64)\n"
     ]
    }
   ],
   "source": [
    "train(200, env, agent)"
   ]
  },
  {
   "cell_type": "code",
   "execution_count": 7,
   "metadata": {},
   "outputs": [
    {
     "data": {
      "text/plain": [
       "array([-0.10846083, -0.8679685 ,  0.83168143,  0.9401421 ], dtype=float32)"
      ]
     },
     "execution_count": 7,
     "metadata": {},
     "output_type": "execute_result"
    }
   ],
   "source": [
    "env.action_space.sample()"
   ]
  },
  {
   "cell_type": "code",
   "execution_count": 53,
   "metadata": {},
   "outputs": [],
   "source": [
    "opt_values, ind = torch.max(a, dim=1)"
   ]
  },
  {
   "cell_type": "code",
   "execution_count": 54,
   "metadata": {},
   "outputs": [
    {
     "data": {
      "text/plain": [
       "torch.Size([4])"
      ]
     },
     "execution_count": 54,
     "metadata": {},
     "output_type": "execute_result"
    }
   ],
   "source": [
    "opt_values.shape"
   ]
  },
  {
   "cell_type": "code",
   "execution_count": 56,
   "metadata": {},
   "outputs": [],
   "source": [
    "val, ind = agent.get_action(torch.zeros(1, 27))"
   ]
  },
  {
   "cell_type": "code",
   "execution_count": 57,
   "metadata": {},
   "outputs": [],
   "source": [
    "target = agent.target_values(torch.zeros(1, 27))"
   ]
  },
  {
   "cell_type": "code",
   "execution_count": 58,
   "metadata": {},
   "outputs": [],
   "source": [
    "loss = agent.calc_loss(val, ind, target, 0, False)"
   ]
  },
  {
   "cell_type": "code",
   "execution_count": 59,
   "metadata": {},
   "outputs": [
    {
     "data": {
      "text/plain": [
       "tensor([3.0581e-03, 6.0537e-05, 1.5853e-03, 7.7077e-03],\n",
       "       grad_fn=<PowBackward0>)"
      ]
     },
     "execution_count": 59,
     "metadata": {},
     "output_type": "execute_result"
    }
   ],
   "source": [
    "loss"
   ]
  },
  {
   "cell_type": "code",
   "execution_count": null,
   "metadata": {},
   "outputs": [],
   "source": []
  },
  {
   "cell_type": "code",
   "execution_count": 292,
   "metadata": {},
   "outputs": [],
   "source": [
    "l = [1,2,3,4]"
   ]
  },
  {
   "cell_type": "code",
   "execution_count": 293,
   "metadata": {},
   "outputs": [
    {
     "data": {
      "text/plain": [
       "1"
      ]
     },
     "execution_count": 293,
     "metadata": {},
     "output_type": "execute_result"
    }
   ],
   "source": [
    "l.pop(0)"
   ]
  },
  {
   "cell_type": "code",
   "execution_count": 296,
   "metadata": {},
   "outputs": [],
   "source": [
    "x = 4"
   ]
  },
  {
   "cell_type": "code",
   "execution_count": null,
   "metadata": {},
   "outputs": [],
   "source": []
  }
 ],
 "metadata": {
  "kernelspec": {
   "display_name": "Python 3",
   "language": "python",
   "name": "python3"
  },
  "language_info": {
   "codemirror_mode": {
    "name": "ipython",
    "version": 3
   },
   "file_extension": ".py",
   "mimetype": "text/x-python",
   "name": "python",
   "nbconvert_exporter": "python",
   "pygments_lexer": "ipython3",
   "version": "3.8.5"
  }
 },
 "nbformat": 4,
 "nbformat_minor": 4
}
